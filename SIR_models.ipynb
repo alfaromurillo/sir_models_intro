{
 "cells": [
  {
   "cell_type": "markdown",
   "metadata": {},
   "source": [
    "\n",
    "# Importing libraries\n",
    "\n"
   ]
  },
  {
   "cell_type": "code",
   "execution_count": 1,
   "metadata": {},
   "outputs": [],
   "source": [
    "import numpy as np\n",
    "import matplotlib.pyplot as plt\n",
    "from scipy.integrate import odeint\n",
    "from ipywidgets import interact"
   ]
  },
  {
   "cell_type": "markdown",
   "metadata": {},
   "source": [
    "\n",
    "# Solving an ODE model\n",
    "\n"
   ]
  },
  {
   "cell_type": "markdown",
   "metadata": {},
   "source": [
    "A general system of differential equations is of the form:\n",
    "\n",
    "$$\\frac{\\mathrm{d}}{\\mathrm{d}t}\\mathbf{x}(t)\n",
    "= \\begin{bmatrix}\\frac{\\mathrm{d}}{\\mathrm{d}t} x_1(t)\\\\ \\vdots\n",
    "\\\\ \\frac{\\mathrm{d}}{\\mathrm{d}t} x_n(t) \\end{bmatrix} = f(\\mathbf{x}(t), t,\n",
    "\\mathbf{z}),$$\n",
    "\n",
    "where $\\mathbf{x}(t)$ and $\\mathbf{z}$ are vectors and $f$ is a function that maps to\n",
    "a vector. We also have to provide an initial condition:\n",
    "\n",
    "$$\\mathbf{x}(0) = \\mathbf{x_0}.$$\n",
    "\n",
    "For us, the $\\mathbf{x}$ represents all the classes in our model,\n",
    "$\\mathbf{z}$ all the parameters in our model and $t$ represents time.\n",
    "\n",
    "To solve an ODE in Python we have define the function $f$ and provide\n",
    "the initial condition $\\mathbf{x_0}$.\n",
    "\n"
   ]
  },
  {
   "cell_type": "markdown",
   "metadata": {},
   "source": [
    "\n",
    "# Model 1: continuous-time endemic\n",
    "\n"
   ]
  },
  {
   "cell_type": "markdown",
   "metadata": {},
   "source": [
    "Model 1 has the equations\n",
    "\n",
    "$$\\mathbf{x} = \\begin{bmatrix} S \\\\ I \\\\ R \\end{bmatrix}$$\n",
    "\n",
    "$$\\frac{\\mathrm{d}}{\\mathrm{d}t}\\mathbf{x}(t)\n",
    "= \\begin{bmatrix}\\frac{\\mathrm{d}}{\\mathrm{d}t} S(t)\n",
    "\\\\ \\frac{\\mathrm{d}}{\\mathrm{d}t} I(t)\n",
    "\\\\ \\frac{\\mathrm{d}}{\\mathrm{d}t} R(t) \\end{bmatrix}\n",
    "= \\begin{bmatrix} \\mu N(t) - \\frac{\\beta a S(t) I(t)}{N} + w R(t) -\\mu S(t)\n",
    "\\\\ \\frac{\\beta a S(t) I(t)}{N} - \\gamma I(t) - \\mu I(t) \\\\ \\gamma\n",
    "I(t) - \\mu R(t) - w R(t)\n",
    "\\end{bmatrix}$$\n",
    "\n",
    "plus and initial condition determined by how many individuals are\n",
    "infected at the start of the epidemic, $I(0)$, and how many are\n",
    "protected $R(0)$.\n",
    "\n"
   ]
  },
  {
   "cell_type": "markdown",
   "metadata": {},
   "source": [
    "\n",
    "## Defining f\n",
    "\n"
   ]
  },
  {
   "cell_type": "code",
   "execution_count": 220,
   "metadata": {},
   "outputs": [],
   "source": [
    "def f_model_1(x, t, beta, a, mu, w, gamma, N):\n",
    "    S = x[0]\n",
    "    I = x[1]\n",
    "    R = x[2]\n",
    "\n",
    "    dS_dt = mu*N - beta*a*S*I/N + w*R - mu*S\n",
    "    dI_dt = beta*a*S*I/N - gamma*I - mu*I\n",
    "    dR_dt = gamma*I - mu*R - w*R\n",
    "\n",
    "    return [dS_dt, dI_dt, dR_dt]"
   ]
  },
  {
   "cell_type": "markdown",
   "metadata": {},
   "source": [
    "\n",
    "## Solving the model\n",
    "\n"
   ]
  },
  {
   "cell_type": "code",
   "execution_count": 221,
   "metadata": {},
   "outputs": [],
   "source": [
    "def model_1(beta, a, mu, w, one_over_gamma, initial_I, initial_R, N, max_time):\n",
    "\n",
    "    ts = np.linspace(0, max_time, 1000)\n",
    "    x0 = [N-initial_I-initial_R, initial_I, initial_R]\n",
    "    xs = odeint(f_model_1,\n",
    "                x0,\n",
    "                ts,\n",
    "                args=(beta, a, mu, w, 1/one_over_gamma, N))\n",
    "\n",
    "    return xs"
   ]
  },
  {
   "cell_type": "markdown",
   "metadata": {},
   "source": [
    "\n",
    "## Running our first model\n",
    "\n"
   ]
  },
  {
   "cell_type": "code",
   "execution_count": 222,
   "metadata": {},
   "outputs": [
    {
     "data": {
      "text/plain": [
       "array([[  9.90000000e+01,   1.00000000e+00,   0.00000000e+00],\n",
       "       [  9.88451356e+01,   1.09217778e+00,   6.26866297e-02],\n",
       "       [  9.86765007e+01,   1.19256281e+00,   1.30936529e-01],\n",
       "       ..., \n",
       "       [  4.00476716e+01,   2.94006101e+00,   5.70122674e+01],\n",
       "       [  4.00600654e+01,   2.93941601e+00,   5.70005186e+01],\n",
       "       [  4.00724028e+01,   2.93882571e+00,   5.69887715e+01]])"
      ]
     },
     "execution_count": 222,
     "metadata": {},
     "output_type": "execute_result"
    }
   ],
   "source": [
    "model_1(0.05, 10, 0.001, 0.01, 5, 1, 0, 100, 300)"
   ]
  },
  {
   "cell_type": "markdown",
   "metadata": {},
   "source": [
    "\n",
    "## Plotting the results\n",
    "\n"
   ]
  },
  {
   "cell_type": "code",
   "execution_count": 223,
   "metadata": {},
   "outputs": [
    {
     "data": {
      "image/png": "[encoded data removed]",
      "text/plain": [
       "<matplotlib.figure.Figure at 0x7f1462b0d630>"
      ]
     },
     "metadata": {},
     "output_type": "display_data"
    }
   ],
   "source": [
    "results_model_1 = model_1(0.05, 10, 0.001, 0.01, 5, 1, 0, 100, 300)\n",
    "plt.plot(results_model_1)\n",
    "plt.show()"
   ]
  },
  {
   "cell_type": "code",
   "execution_count": 224,
   "metadata": {},
   "outputs": [
    {
     "data": {
      "image/png": "[encoded data removed]",
      "text/plain": [
       "<matplotlib.figure.Figure at 0x7f1468bc1668>"
      ]
     },
     "metadata": {},
     "output_type": "display_data"
    }
   ],
   "source": [
    "results_model_1 = model_1(0.05, 10, 0.001, 0.01, 5, 1, 0, 100, 300)\n",
    "\n",
    "plt.plot(np.linspace(0, 300, 1000), results_model_1)\n",
    "\n",
    "plt.xlabel(\"Time (days)\")\n",
    "\n",
    "plt.legend([\"S\", \"I\", \"R\"])\n",
    "\n",
    "plt.show()"
   ]
  },
  {
   "cell_type": "markdown",
   "metadata": {},
   "source": [
    "\n",
    "## Improve code and set default values\n",
    "\n"
   ]
  },
  {
   "cell_type": "code",
   "execution_count": 1,
   "metadata": {},
   "outputs": [],
   "source": [
    "resolution = 1000\n",
    "legends = [\"S (susceptible)\", \"I (infectious)\", \"R (recovered)\"]\n",
    "xlabel = \"Time (days)\"\n",
    "\n",
    "\n",
    "def plot_model(ts, xs):\n",
    "    plt.plot(ts, xs)\n",
    "    plt.legend(legends)\n",
    "    plt.xlabel(xlabel)\n",
    "    plt.ylim([0, np.sum(xs[0])])\n",
    "    plt.show()\n",
    "\n",
    "\n",
    "def model_1(beta=0.05,\n",
    "            a=10.0,\n",
    "            mu=0.001,\n",
    "            w=0.01,\n",
    "            one_over_gamma=5.0,\n",
    "            initial_I=1,\n",
    "            initial_R=0,\n",
    "            N=100,\n",
    "            max_time=300.0):\n",
    "\n",
    "    ts = np.linspace(0, max_time, resolution)\n",
    "    x0 = [N-initial_I-initial_R, initial_I, initial_R]\n",
    "    xs = odeint(f_model_1,\n",
    "                x0,\n",
    "                ts,\n",
    "    args=(beta, a, mu, w, 1/one_over_gamma, N))\n",
    "\n",
    "    plot_model(ts, xs)\n",
    "\n",
    "    R0 = beta*a/(1/one_over_gamma+mu)\n",
    "    print(\"R0 = {:.2f}\".format(R0))\n",
    "\n",
    "    return xs"
   ]
  },
  {
   "cell_type": "code",
   "execution_count": 1,
   "metadata": {},
   "outputs": [],
   "source": [
    "model_1()"
   ]
  },
  {
   "cell_type": "code",
   "execution_count": 1,
   "metadata": {},
   "outputs": [],
   "source": [
    "model_1(mu=0.002, beta=0.06)"
   ]
  },
  {
   "cell_type": "markdown",
   "metadata": {},
   "source": [
    "\n",
    "# Interacting with the parameters\n",
    "\n"
   ]
  },
  {
   "cell_type": "code",
   "execution_count": 1,
   "metadata": {},
   "outputs": [],
   "source": [
    "interact(model_1,\n",
    "         beta=(0.01, 0.1, 0.001),\n",
    "         a=(5, 15, 0.1),\n",
    "         mu=(0, 0.01, 0.0001),\n",
    "         w=(0.001, 0.1, 0.001),\n",
    "         one_over_gamma=(2, 30, 0.1),\n",
    "         N=(0, 1000, 10.0),\n",
    "         initial_I=(0, 50),\n",
    "         initial_R=(0, 50),\n",
    "         max_time=(1, 500, 10))"
   ]
  },
  {
   "cell_type": "code",
   "execution_count": 1,
   "metadata": {},
   "outputs": [],
   "source": [
    "default_sliders = {'beta':(0.01, 0.1, 0.001),\n",
    "                   'a':(5, 15, 0.1),\n",
    "                   'mu':(0.0, 0.01, 0.0001),\n",
    "                   'w':(0.001, 0.1, 0.001),\n",
    "                   'one_over_gamma':(2.0, 30.0, 0.1),\n",
    "                   'N':(1, 20000, 50),\n",
    "                   'initial_I':(0, 50),\n",
    "                   'initial_R':(0, 50),\n",
    "                   'max_time':(1, 500, 10)}\n",
    "\n",
    "\n",
    "interact(model_1, **default_sliders)"
   ]
  },
  {
   "cell_type": "markdown",
   "metadata": {},
   "source": [
    "\n",
    "## Improving sliders\n",
    "\n"
   ]
  },
  {
   "cell_type": "code",
   "execution_count": 1,
   "metadata": {},
   "outputs": [],
   "source": [
    "import ipywidgets as widgets\n",
    "\n",
    "\n",
    "default_sliders['one_over_gamma'] = widgets.FloatSlider(\n",
    "    value=5.0,\n",
    "    min=2.0,\n",
    "    max=10.0,\n",
    "    step=0.1,\n",
    "    description='1/gamma')\n",
    "\n",
    "\n",
    "interact(model_1, **default_sliders)"
   ]
  },
  {
   "cell_type": "markdown",
   "metadata": {},
   "source": [
    "For more on widgets check\n",
    "[http://ipywidgets.readthedocs.io/en/latest/examples/Widget%20List.html](http://ipywidgets.readthedocs.io/en/latest/examples/Widget%20List.html)\n",
    "\n"
   ]
  },
  {
   "cell_type": "markdown",
   "metadata": {},
   "source": [
    "\n",
    "# Model 2: continuous-time epidemic\n",
    "\n"
   ]
  },
  {
   "cell_type": "markdown",
   "metadata": {},
   "source": [
    "In Model 2 we do not account for births and deaths:\n",
    "\n",
    "$$\\frac{\\mathrm{d}}{\\mathrm{d}t}\\mathbf{x}(t)\n",
    "= \\begin{bmatrix}\\frac{\\mathrm{d}}{\\mathrm{d}t} S(t)\n",
    "\\\\ \\frac{\\mathrm{d}}{\\mathrm{d}t} I(t)\n",
    "\\\\ \\frac{\\mathrm{d}}{\\mathrm{d}t} R(t) \\end{bmatrix}\n",
    "= \\begin{bmatrix} - \\frac{\\beta a S(t) I(t)}{N} + w R(t)\n",
    "\\\\ \\frac{\\beta a S(t) I(t)}{N} - \\gamma I(t) \\\\ \\gamma\n",
    "I(t) - w R(t)\n",
    "\\end{bmatrix}$$\n",
    "\n",
    "but we assume that a certain percentage $p$ of the population is\n",
    "vaccinated before the start of the epidemic, and are thus protected:\n",
    "\n",
    "$$\\mathbf{x_0}\n",
    "= \\begin{bmatrix} N - I_0 - p N\n",
    "\\\\ I_0 \\\\ pN \\end{bmatrix}$$\n",
    "\n"
   ]
  },
  {
   "cell_type": "code",
   "execution_count": 1,
   "metadata": {},
   "outputs": [],
   "source": [
    "def f_model_2(x, t, beta, a, p, w, gamma, N):\n",
    "    S = x[0]\n",
    "    I = x[1]\n",
    "    R = x[2]\n",
    "\n",
    "    new_infections = beta*a*S*I/N\n",
    "    dS_dt = - new_infections + w*R\n",
    "    dI_dt = new_infections - gamma*I\n",
    "    dR_dt = gamma*I - w*R\n",
    "\n",
    "    return [dS_dt, dI_dt, dR_dt]\n",
    "\n",
    "\n",
    "def model_2(beta=0.05,\n",
    "            a=10,\n",
    "            w=0.00,\n",
    "            one_over_gamma=5.0,\n",
    "            p=0.2,\n",
    "            initial_I=1.0,\n",
    "            N=100.0,\n",
    "            max_time=100.0):\n",
    "\n",
    "    ts = np.linspace(0, max_time, resolution)\n",
    "    x0 = [N-initial_I-p*N, initial_I, p*N]\n",
    "    xs = odeint(f_model_2,\n",
    "                x0,\n",
    "                ts,\n",
    "                args=(beta, a, p, w, 1/one_over_gamma, N))\n",
    "\n",
    "    plot_model(ts, xs)\n",
    "\n",
    "    R0 = beta*a*one_over_gamma\n",
    "    Rv = (1-p)*R0\n",
    "    print(\"R0 = {:.2f}\".format(R0))\n",
    "    print(\"Rv = {:.2f}\".format(Rv))\n",
    "\n",
    "    return xs"
   ]
  },
  {
   "cell_type": "code",
   "execution_count": 1,
   "metadata": {},
   "outputs": [],
   "source": [
    "model_2()"
   ]
  },
  {
   "cell_type": "markdown",
   "metadata": {},
   "source": [
    "\n",
    "## Interacting with model 2\n",
    "\n"
   ]
  },
  {
   "cell_type": "code",
   "execution_count": 1,
   "metadata": {},
   "outputs": [],
   "source": [
    "default_sliders['p'] = (0, 1, 0.1)\n",
    "\n",
    "interact(model_2, **default_sliders)"
   ]
  },
  {
   "cell_type": "markdown",
   "metadata": {},
   "source": [
    "\n",
    "## Computing the final size in Model 2\n",
    "\n"
   ]
  },
  {
   "cell_type": "markdown",
   "metadata": {},
   "source": [
    "We can modify model 2 to find the final size of the epidemic, by\n",
    "keeping track of the cumulative infections ($C$) using the equations:\n",
    "\n",
    "$$\\frac{\\mathrm{d}}{\\mathrm{d}t}\\mathbf{x}(t)\n",
    "= \\begin{bmatrix}\\frac{\\mathrm{d}}{\\mathrm{d}t} S(t)\n",
    "\\\\ \\frac{\\mathrm{d}}{\\mathrm{d}t} I(t)\n",
    "\\\\ \\frac{\\mathrm{d}}{\\mathrm{d}t} R(t)\n",
    "\\\\ \\frac{\\mathrm{d}}{\\mathrm{d}t} C(t)\\end{bmatrix}\n",
    "= \\begin{bmatrix} - \\frac{\\beta a S(t) I(t)}{N} + w R(t)\n",
    "\\\\ \\frac{\\beta a S(t) I(t)}{N} - \\gamma I(t) \\\\ \\gamma\n",
    "I(t) - w R(t) \\\\\n",
    "\\frac{\\beta a S(t) I(t)}{N}\n",
    "\\end{bmatrix}$$\n",
    "\n",
    "and the initial condition:\n",
    "\n",
    "$$\\mathbf{x_0}\n",
    "= \\begin{bmatrix} N - I_0 - p N\n",
    "\\\\ I_0 \\\\ pN \\\\ 0\\end{bmatrix}$$\n",
    "\n"
   ]
  },
  {
   "cell_type": "code",
   "execution_count": 1,
   "metadata": {},
   "outputs": [],
   "source": [
    "def f_model_2(x, t, beta, a, p, w, gamma, N):\n",
    "    S = x[0]\n",
    "    I = x[1]\n",
    "    R = x[2]\n",
    "\n",
    "    new_infections = beta*a*S*I/N\n",
    "    dS_dt = -new_infections + w*R\n",
    "    dI_dt = new_infections - gamma*I\n",
    "    dR_dt = gamma*I - w*R\n",
    "    dC_dt = new_infections\n",
    "\n",
    "    return [dS_dt, dI_dt, dR_dt, dC_dt]\n",
    "\n",
    "\n",
    "def model_2(beta=0.05,\n",
    "            a=10,\n",
    "            w=0.0,\n",
    "            one_over_gamma=5.0,\n",
    "            p=0.2,\n",
    "            initial_I=1,\n",
    "            N=100,\n",
    "            max_time=100):\n",
    "\n",
    "    ts = np.linspace(0, max_time, resolution)\n",
    "    x0 = [N-initial_I-p*N, initial_I, p*N, 0]\n",
    "    xs = odeint(f_model_2,\n",
    "                x0,\n",
    "                ts,\n",
    "                args=(beta, a, p, w, 1/one_over_gamma, N))\n",
    "\n",
    "    plot_model(ts, xs)\n",
    "\n",
    "    R0 = beta*a*one_over_gamma\n",
    "    Rv = (1-p)*R0\n",
    "    print(\"R0 = {:.2f}\".format(R0))\n",
    "    print(\"Rv = {:.2f}\".format(Rv))\n",
    "\n",
    "    return xs"
   ]
  },
  {
   "cell_type": "code",
   "execution_count": 1,
   "metadata": {},
   "outputs": [],
   "source": [
    "model_2()"
   ]
  },
  {
   "cell_type": "markdown",
   "metadata": {},
   "source": [
    "\n",
    "## Fixing the labels\n",
    "\n"
   ]
  },
  {
   "cell_type": "code",
   "execution_count": 1,
   "metadata": {},
   "outputs": [],
   "source": [
    "legends = ['S (susceptible)',\n",
    "           'I (infectious)',\n",
    "           'R (recovered)',\n",
    "           'C (cumulative)']\n",
    "model_2()"
   ]
  },
  {
   "cell_type": "markdown",
   "metadata": {},
   "source": [
    "\n",
    "## Interacting with model 2 (again)\n",
    "\n"
   ]
  },
  {
   "cell_type": "code",
   "execution_count": 1,
   "metadata": {},
   "outputs": [],
   "source": [
    "interact(model_2, **default_sliders)"
   ]
  },
  {
   "cell_type": "markdown",
   "metadata": {},
   "source": [
    "\n",
    "# Model 4: Impact of vaccination delay and capacity during an epidemic\n",
    "\n"
   ]
  },
  {
   "cell_type": "code",
   "execution_count": 1,
   "metadata": {},
   "outputs": [],
   "source": [
    "def f_model_4(x, t, beta, a, efficacy, gamma, N, vacc_per_day, start_vacc, end_vacc):\n",
    "    S = x[0]\n",
    "    I = x[1]\n",
    "    R = x[2]\n",
    "    Sv = x[3]\n",
    "    Iv = x[4]\n",
    "    Rv = x[5]\n",
    "\n",
    "    if t < start_vacc or t > end_vacc:\n",
    "        vacc = 0\n",
    "    else:\n",
    "        vacc = vacc_per_day\n",
    "\n",
    "    new_infections_S = beta*a*S*(I+Iv)/N\n",
    "    new_infections_Sv = beta*a*Sv*(I+Iv)/N\n",
    "    non_vacc = S + I + R\n",
    "    dS_dt = - new_infections_S - vacc*S/non_vacc\n",
    "    dI_dt = new_infections_S - gamma*I - vacc*I/non_vacc\n",
    "    dR_dt = gamma*I - vacc*R/non_vacc\n",
    "    dSv_dt = - new_infections_Sv + (1-efficacy)*vacc*S/non_vacc\n",
    "    dIv_dt = new_infections_Sv - gamma*Iv + vacc*I/non_vacc\n",
    "    dRv_dt = gamma*Iv + vacc*R/non_vacc + efficacy*vacc*S/non_vacc\n",
    "    dC_dt = new_infections_S + new_infections_Sv\n",
    "\n",
    "    return [dS_dt, dI_dt, dR_dt, dSv_dt, dIv_dt, dRv_dt, dC_dt]\n",
    "\n",
    "\n",
    "def model_4(beta=0.02,\n",
    "            a=10,\n",
    "            efficacy=0.85,\n",
    "            one_over_gamma=20.0,\n",
    "            start_vacc=30,\n",
    "            vacc_per_day=200,\n",
    "            duration_vacc=30,\n",
    "            initial_I=1.0,\n",
    "            N=10000.0,\n",
    "            max_time=365.0):\n",
    "\n",
    "    end_vacc = start_vacc + duration_vacc\n",
    "\n",
    "    ts = np.linspace(0, max_time, resolution)\n",
    "    x0 = [N-initial_I, initial_I, 0, 0, 0, 0, 0]\n",
    "    xs = odeint(f_model_4, x0, ts, args=(beta, a, efficacy, 1/one_over_gamma, N, vacc_per_day, start_vacc, end_vacc))\n",
    "\n",
    "    legends = ['Total susceptible',\n",
    "               'Total infectious',\n",
    "               'Cumulative infected',\n",
    "               'Vaccinated']\n",
    "\n",
    "    total_S = xs[:, 0] + xs[:, 3]\n",
    "    total_I = xs[:, 1] + xs[:, 4]\n",
    "    cum_infected = xs[:, 6]\n",
    "    vaccinated = xs[:, 3] + xs[:, 4] + xs[:, 5]\n",
    "\n",
    "    ys = np.vstack([total_S, total_I, cum_infected, vaccinated]).T\n",
    "\n",
    "    plt.plot(ts, ys)\n",
    "    plt.legend(legends)\n",
    "    plt.xlabel(xlabel)\n",
    "    plt.ylim([0, np.sum(xs[0])])\n",
    "    plt.show()\n",
    "\n",
    "    return xs"
   ]
  },
  {
   "cell_type": "code",
   "execution_count": 1,
   "metadata": {},
   "outputs": [],
   "source": [
    "model_4()"
   ]
  },
  {
   "cell_type": "markdown",
   "metadata": {},
   "source": [
    "\n",
    "## Interacting with model 4\n",
    "\n"
   ]
  },
  {
   "cell_type": "code",
   "execution_count": 1,
   "metadata": {},
   "outputs": [],
   "source": [
    "default_sliders['efficacy'] = (0, 1, 0.01)\n",
    "default_sliders['start_vacc'] = (0, 30*11, 1)\n",
    "default_sliders['vacc_per_day'] = (0, 800, 1)\n",
    "default_sliders['duration_vacc'] = (1, 30*6, 1)"
   ]
  },
  {
   "cell_type": "code",
   "execution_count": 1,
   "metadata": {},
   "outputs": [],
   "source": [
    "interact(model_4, **default_sliders)"
   ]
  }
 ],
 "metadata": {
  "kernelspec": {
   "display_name": "Python 3",
   "language": "python",
   "name": "python3"
  },
  "language_info": {
   "codemirror_mode": {
    "name": "ipython",
    "version": 3
   },
   "file_extension": ".py",
   "mimetype": "text/x-python",
   "name": "python",
   "nbconvert_exporter": "python",
   "pygments_lexer": "ipython3",
   "version": "3.5.0"
  },
  "org": null
 },
 "nbformat": 4,
 "nbformat_minor": 1
}
